{
 "cells": [
  {
   "cell_type": "code",
   "execution_count": null,
   "metadata": {
    "id": "ur8xi4C7S06n"
   },
   "outputs": [],
   "source": [
    "# Copyright 2021 Google LLC\n",
    "#\n",
    "# Licensed under the Apache License, Version 2.0 (the \"License\");\n",
    "# you may not use this file except in compliance with the License.\n",
    "# You may obtain a copy of the License at\n",
    "#\n",
    "#     https://www.apache.org/licenses/LICENSE-2.0\n",
    "#\n",
    "# Unless required by applicable law or agreed to in writing, software\n",
    "# distributed under the License is distributed on an \"AS IS\" BASIS,\n",
    "# WITHOUT WARRANTIES OR CONDITIONS OF ANY KIND, either express or implied.\n",
    "# See the License for the specific language governing permissions and\n",
    "# limitations under the License."
   ]
  },
  {
   "cell_type": "markdown",
   "metadata": {
    "id": "mVX0RV_s8zZ7"
   },
   "source": [
    "# Vertex AI: Medical imaging pipeline with AutoML Vision and custom steps"
   ]
  },
  {
   "cell_type": "markdown",
   "metadata": {
    "id": "tvgnzT1CKxrO"
   },
   "source": [
    "## Overview\n",
    "\n",
    "This notebook shows how to use the components defined in `google_cloud_pipeline_components` to build an AutoML Vision workflow with Vertex AI. It also demonstrates a custom data pre-processing step.\n",
    "\n",
    "### Objective\n",
    "\n",
    "In this example, you'll learn how to use components from `google_cloud_pipeline_components` to:\n",
    "- create a _Dataset_\n",
    "- train an AutoML Vision model\n",
    "- deploy the trained model to an _endpoint_ for serving\n",
    "\n",
    "You'll also learn how to create a custom component and include it in a pipeline.\n",
    "\n",
    "### Usage\n",
    "The pneumonia detection model in this notebook is intended for **demonstration purposes only**. This model is not intended for use in clinical diagnosis or clinical decision-making or for any other clinical use, and the performance of the model for clinical use has not been established.\n",
    "\n",
    "### Dataset\n",
    "\n",
    "The data used for this example comes from the [RSNA 2018 Pneumonia Detection Challenge](https://www.rsna.org/education/ai-resources-and-training/ai-image-challenge/RSNA-Pneumonia-Detection-Challenge-2018). The data is also available in a [Kaggle dataset](https://www.kaggle.com/c/rsna-pneumonia-detection-challenge/data). The dataset was originally drawn from [NIH Chest X-ray Dataset](https://nihcc.app.box.com/v/ChestXray-NIHCC)\n",
    "\n",
    "### Costs \n",
    "\n",
    "This tutorial uses billable components of Google Cloud:\n",
    "\n",
    "* Vertex AutoML\n",
    "* Vertex AI Pipeline\n",
    "* Cloud Storage\n",
    "\n",
    "Learn about [AI Platform (Unified)\n",
    "pricing](https://cloud.google.com/ai-platform-unified/pricing) and [Cloud Storage\n",
    "pricing](https://cloud.google.com/storage/pricing), and use the [Pricing\n",
    "Calculator](https://cloud.google.com/products/calculator/)\n",
    "to generate a cost estimate based on your projected usage.\n",
    "\n",
    "### Resources\n",
    "* Pipeline adapted from this sample: [AutoML Images pipelines using google-cloud-pipeline-components](https://github.com/GoogleCloudPlatform/ai-platform-samples/blob/master/ai-platform-unified/notebooks/official/pipelines/google-cloud-pipeline-components_automl_images.ipynb)\n",
    "* Prediction code adapted from this sample: [predict_image_classification_sample.py](https://github.com/googleapis/python-aiplatform/blob/HEAD/samples/snippets/predict_image_classification_sample.py)\n",
    "\n",
    "\n",
    "### References\n",
    "* Xiaosong Wang, Yifan Peng, Le Lu, Zhiyong Lu, Mohammadhadi Bagheri, Ronald Summers, ChestX-ray8: Hospital-scale Chest X-ray Database and Benchmarks on Weakly-Supervised Classification and Localization of Common Thorax Diseases, IEEE CVPR, pp. 3462-3471, 2017\n",
    "* George Shih , Carol C. Wu, Safwan S. Halabi, Marc D. Kohli, Luciano M. Prevedello, Tessa S. Cook, Arjun Sharma, Judith K. Amorosa, Veronica Arteaga, Maya Galperin-Aizenberg, Ritu R. Gill, Myrna C.B. Godoy, Stephen Hobbs, Jean Jeudy, Archana Laroia, Palmi N. Shah, Dharshan Vummidi, Kavitha Yaddanapudi, Anouk Stein, Augmenting the National Institutes of Health Chest Radiograph Dataset with Expert Annotations of Possible Pneumonia, Radiology: AI, January 30, 2019, https://doi.org/10.1148/ryai.2019180041\n"
   ]
  },
  {
   "cell_type": "markdown",
   "metadata": {
    "id": "ze4-nDLfK4pw"
   },
   "source": [
    "## Set up your local development environment\n",
    "\n",
    "**If you are using Colab or AI Platform Notebooks**, your environment already meets\n",
    "all the requirements to run this notebook. You can skip this step."
   ]
  },
  {
   "cell_type": "markdown",
   "metadata": {
    "id": "gCuSR8GkAgzl"
   },
   "source": [
    "**Otherwise**, make sure your environment meets this notebook's requirements.\n",
    "You need the following:\n",
    "\n",
    "* The Google Cloud SDK\n",
    "* Git\n",
    "* Python 3\n",
    "* virtualenv\n",
    "* Jupyter notebook running in a virtual environment with Python 3\n",
    "\n",
    "The Google Cloud guide to [Setting up a Python development\n",
    "environment](https://cloud.google.com/python/setup) and the [Jupyter\n",
    "installation guide](https://jupyter.org/install) provide detailed instructions\n",
    "for meeting these requirements. The following steps provide a condensed set of\n",
    "instructions:\n",
    "\n",
    "1. [Install and initialize the Cloud SDK.](https://cloud.google.com/sdk/docs/)\n",
    "\n",
    "1. [Install Python 3.](https://cloud.google.com/python/setup#installing_python)\n",
    "\n",
    "1. [Install\n",
    "   virtualenv](https://cloud.google.com/python/setup#installing_and_using_virtualenv)\n",
    "   and create a virtual environment that uses Python 3. Activate the virtual environment.\n",
    "\n",
    "1. To install Jupyter, run `pip install jupyter` on the\n",
    "command-line in a terminal shell.\n",
    "\n",
    "1. To launch Jupyter, run `jupyter notebook` on the command-line in a terminal shell.\n",
    "\n",
    "1. Open this notebook in the Jupyter Notebook Dashboard."
   ]
  },
  {
   "cell_type": "markdown",
   "metadata": {
    "id": "lWEdiXsJg0XY"
   },
   "source": [
    "## Before you begin\n",
    "\n",
    "This notebook does not require a GPU runtime."
   ]
  },
  {
   "cell_type": "markdown",
   "metadata": {
    "id": "i7EUnXsZhAGF"
   },
   "source": [
    "### Install additional packages\n"
   ]
  },
  {
   "cell_type": "markdown",
   "metadata": {},
   "source": [
    "Set project properties:"
   ]
  },
  {
   "cell_type": "code",
   "execution_count": null,
   "metadata": {
    "id": "0GlP_C9mY3Gq"
   },
   "outputs": [],
   "source": [
    "PROJECT_ID = 'YOUR-PROJECT'  # <---CHANGE THIS @param {type:\"string\"}"
   ]
  },
  {
   "cell_type": "code",
   "execution_count": null,
   "metadata": {
    "colab": {
     "base_uri": "https://localhost:8080/"
    },
    "id": "VkWdxe4TXRHk",
    "outputId": "6635f494-b36d-43ac-ceee-8a75cccacd7e"
   },
   "outputs": [],
   "source": [
    "!gcloud config set project {PROJECT_ID}"
   ]
  },
  {
   "cell_type": "markdown",
   "metadata": {},
   "source": [
    "Check which notebook environment is being used, and authenticate if using Colab:"
   ]
  },
  {
   "cell_type": "code",
   "execution_count": null,
   "metadata": {
    "id": "kZQA0KrfXCvU"
   },
   "outputs": [],
   "source": [
    "import sys\n",
    "\n",
    "if 'google.colab' in sys.modules:\n",
    "  USER_FLAG = ''\n",
    "  from google.colab import auth\n",
    "  auth.authenticate_user()\n",
    "else:\n",
    "  USER_FLAG = '--user'"
   ]
  },
  {
   "cell_type": "markdown",
   "metadata": {
    "id": "ijfOidzcdEWy"
   },
   "source": [
    "Install libraries:"
   ]
  },
  {
   "cell_type": "code",
   "execution_count": null,
   "metadata": {},
   "outputs": [],
   "source": [
    "!pip3 install -U {USER_FLAG} kfp google-cloud-aiplatform google-cloud-pipeline-components"
   ]
  },
  {
   "cell_type": "markdown",
   "metadata": {
    "id": "hhq5zEbGg0XX"
   },
   "source": [
    "### Restart the kernel\n",
    "\n",
    "After you install the additional packages, you need to restart the notebook kernel so it can find the packages."
   ]
  },
  {
   "cell_type": "code",
   "execution_count": null,
   "metadata": {
    "id": "EzrelQZ22IZj"
   },
   "outputs": [],
   "source": [
    "# Automatically restart kernel after installs\n",
    "import os\n",
    "\n",
    "if not os.getenv(\"IS_TESTING\"):\n",
    "    # Automatically restart kernel after installs\n",
    "    import IPython\n",
    "\n",
    "    app = IPython.Application.instance()\n",
    "    app.kernel.do_shutdown(True)"
   ]
  },
  {
   "cell_type": "markdown",
   "metadata": {
    "id": "6GPgNN7eeX1l"
   },
   "source": [
    "Check the versions of the packages you installed.  The KFP SDK version should be >=1.6."
   ]
  },
  {
   "cell_type": "code",
   "execution_count": null,
   "metadata": {
    "colab": {
     "base_uri": "https://localhost:8080/"
    },
    "id": "NN0mULkEeb84",
    "outputId": "25bc5972-aa89-4f43-b3d0-f8f14ad6a2dc"
   },
   "outputs": [],
   "source": [
    "!python3 -c \"import kfp; print('KFP SDK version: {}'.format(kfp.__version__))\"\n"
   ]
  },
  {
   "cell_type": "markdown",
   "metadata": {
    "id": "BF1j6f9HApxa"
   },
   "source": [
    "## Set up your Google Cloud project\n",
    "\n",
    "**The following steps are required, regardless of your notebook environment.**\n",
    "\n",
    "1. [Select or create a Google Cloud project](https://console.cloud.google.com/cloud-resource-manager). When you first create an account, you get a $300 free credit towards your compute/storage costs.\n",
    "\n",
    "1. [Make sure that billing is enabled for your project](https://cloud.google.com/billing/docs/how-to/modify-project).\n",
    "\n",
    "1. [Enable the AI Platform (Unified) API and Compute Engine API](https://console.cloud.google.com/flows/enableapi?apiid=aiplatform.googleapis.com,compute_component). {TODO: Update the APIs needed for your tutorial. Edit the API names, and update the link to append the API IDs, separating each one with a comma. For example, container.googleapis.com,cloudbuild.googleapis.com}\n",
    "\n",
    "1. If you are running this notebook locally, you will need to install the [Cloud SDK](https://cloud.google.com/sdk).\n",
    "\n",
    "1. Enter your project ID in the cell below. Then run the cell to make sure the\n",
    "Cloud SDK uses the right project for all the commands in this notebook.\n",
    "\n",
    "**Note**: Jupyter runs lines prefixed with `!` as shell commands, and it interpolates Python variables prefixed with `$` into these commands."
   ]
  },
  {
   "cell_type": "markdown",
   "metadata": {
    "id": "WReHDGG5g0XY"
   },
   "source": [
    "#### Set your project ID\n",
    "\n",
    "**If you don't know your project ID**, you may be able to get your project ID using `gcloud`."
   ]
  },
  {
   "cell_type": "code",
   "execution_count": null,
   "metadata": {
    "colab": {
     "base_uri": "https://localhost:8080/"
    },
    "id": "oM1iC_MfAts1",
    "outputId": "dccae429-e833-40e6-b9be-ae2979427ecc"
   },
   "outputs": [],
   "source": [
    "import os\n",
    "\n",
    "# Get your Google Cloud project ID from gcloud\n",
    "if not os.getenv(\"IS_TESTING\"):\n",
    "    shell_output=!gcloud config list --format 'value(core.project)' 2>/dev/null\n",
    "    PROJECT_ID = shell_output[0]\n",
    "    print(\"Project ID: \", PROJECT_ID)"
   ]
  },
  {
   "cell_type": "markdown",
   "metadata": {},
   "source": [
    "Otherwise, set it here:"
   ]
  },
  {
   "cell_type": "code",
   "execution_count": null,
   "metadata": {},
   "outputs": [],
   "source": [
    "if PROJECT_ID == \"\" or PROJECT_ID is None:\n",
    "    PROJECT_ID = \"python-docs-samples-tests\"  # @param {type:\"string\"}"
   ]
  },
  {
   "cell_type": "code",
   "execution_count": null,
   "metadata": {
    "colab": {
     "base_uri": "https://localhost:8080/"
    },
    "id": "rtXPzZ6-kMbi",
    "outputId": "9120dc22-6bd5-425e-c1cd-8f4b9f200af0"
   },
   "outputs": [],
   "source": [
    "!gcloud config set project {PROJECT_ID}"
   ]
  },
  {
   "cell_type": "markdown",
   "metadata": {
    "id": "06571eb4063b"
   },
   "source": [
    "#### Timestamp\n",
    "\n",
    "If you are in a live tutorial session, you might be using a shared test account or project. To avoid name collisions between users on resources created, you create a timestamp for each instance session, and append it onto the name of resources you create in this tutorial."
   ]
  },
  {
   "cell_type": "code",
   "execution_count": null,
   "metadata": {
    "id": "697568e92bd6"
   },
   "outputs": [],
   "source": [
    "from datetime import datetime\n",
    "\n",
    "TIMESTAMP = datetime.now().strftime(\"%Y%m%d%H%M%S\")"
   ]
  },
  {
   "cell_type": "markdown",
   "metadata": {
    "id": "dr--iN2kAylZ"
   },
   "source": [
    "### Authenticate your Google Cloud account\n",
    "\n",
    "**If you are using AI Platform Notebooks**, your environment is already\n",
    "authenticated. Skip this step."
   ]
  },
  {
   "cell_type": "markdown",
   "metadata": {
    "id": "sBCra4QMA2wR"
   },
   "source": [
    "**If you are using Colab**, run the cell below and follow the instructions\n",
    "when prompted to authenticate your account via oAuth.\n",
    "\n",
    "**Otherwise**, follow these steps:\n",
    "\n",
    "1. In the Cloud Console, go to the [**Create service account key**\n",
    "   page](https://console.cloud.google.com/apis/credentials/serviceaccountkey).\n",
    "\n",
    "2. Click **Create service account**.\n",
    "\n",
    "3. In the **Service account name** field, enter a name, and\n",
    "   click **Create**.\n",
    "\n",
    "4. In the **Grant this service account access to project** section, click the **Role** drop-down list. Type \"AI Platform\"\n",
    "into the filter box, and select\n",
    "   **AI Platform Administrator**. Type \"Storage Object Admin\" into the filter box, and select **Storage Object Admin**.\n",
    "\n",
    "5. Click *Create*. A JSON file that contains your key downloads to your\n",
    "local environment.\n",
    "\n",
    "6. Enter the path to your service account key as the\n",
    "`GOOGLE_APPLICATION_CREDENTIALS` variable in the cell below and run the cell."
   ]
  },
  {
   "cell_type": "code",
   "execution_count": null,
   "metadata": {
    "id": "PyQmSRbKA8r-"
   },
   "outputs": [],
   "source": [
    "import os\n",
    "import sys\n",
    "\n",
    "# If you are running this notebook in Colab, run this cell and follow the\n",
    "# instructions to authenticate your GCP account. This provides access to your\n",
    "# Cloud Storage bucket and lets you submit training jobs and prediction\n",
    "# requests.\n",
    "\n",
    "# If on AI Platform, then don't execute this code\n",
    "if not os.path.exists(\"/opt/deeplearning/metadata/env_version\"):\n",
    "    if \"google.colab\" in sys.modules:\n",
    "        from google.colab import auth as google_auth\n",
    "\n",
    "        google_auth.authenticate_user()\n",
    "\n",
    "    # If you are running this notebook locally, replace the string below with the\n",
    "    # path to your service account key and run this cell to authenticate your GCP\n",
    "    # account.\n",
    "    elif not os.getenv(\"IS_TESTING\"):\n",
    "        %env GOOGLE_APPLICATION_CREDENTIALS ''"
   ]
  },
  {
   "cell_type": "markdown",
   "metadata": {
    "id": "NxhCPW6e46EF"
   },
   "source": [
    "### Create a Cloud Storage bucket as necessary\n",
    "\n",
    "You will need a Cloud Storage bucket for this example.  If you don't have one that you want to use, you can make one now.\n",
    "\n",
    "\n",
    "Set the name of your Cloud Storage bucket below. It must be unique across all\n",
    "Cloud Storage buckets.\n",
    "\n",
    "You may also change the `REGION` variable, which is used for operations\n",
    "throughout the rest of this notebook. Make sure to [choose a region where AI Platform (Unified) services are\n",
    "available](https://cloud.google.com/ai-platform-unified/docs/general/locations#available_regions). You may\n",
    "not use a Multi-Regional Storage bucket for training with AI Platform."
   ]
  },
  {
   "cell_type": "code",
   "execution_count": null,
   "metadata": {
    "id": "MzGDU7TWdts_"
   },
   "outputs": [],
   "source": [
    "BUCKET_NAME = \"YOUR-REGIONAL-BUCKET\"  # @param {type:\"string\"}\n",
    "REGION = \"us-central1\"  # @param {type:\"string\"}"
   ]
  },
  {
   "cell_type": "code",
   "execution_count": null,
   "metadata": {
    "id": "cf221059d072"
   },
   "outputs": [],
   "source": [
    "if BUCKET_NAME == \"\" or BUCKET_NAME is None or BUCKET_NAME == \"gs://[your-bucket-name]\":\n",
    "    BUCKET_NAME = \"gs://\" + PROJECT_ID + \"aip-\" + TIMESTAMP"
   ]
  },
  {
   "cell_type": "markdown",
   "metadata": {
    "id": "-EcIXiGsCePi"
   },
   "source": [
    "**Only if your bucket doesn't already exist**: Run the following cell to create your Cloud Storage bucket."
   ]
  },
  {
   "cell_type": "code",
   "execution_count": null,
   "metadata": {
    "id": "NIq7R4HZCfIc"
   },
   "outputs": [],
   "source": [
    "! gsutil mb -l $REGION $BUCKET_NAME"
   ]
  },
  {
   "cell_type": "markdown",
   "metadata": {
    "id": "ucvCsknMCims"
   },
   "source": [
    "Finally, validate access to your Cloud Storage bucket by examining its contents:"
   ]
  },
  {
   "cell_type": "code",
   "execution_count": null,
   "metadata": {
    "id": "vhOb7YnwClBb"
   },
   "outputs": [],
   "source": [
    "! gsutil ls -al $BUCKET_NAME"
   ]
  },
  {
   "cell_type": "markdown",
   "metadata": {
    "id": "XoEqT2Y4DJmf"
   },
   "source": [
    "### Import libraries and define constants"
   ]
  },
  {
   "cell_type": "code",
   "execution_count": null,
   "metadata": {
    "colab": {
     "base_uri": "https://localhost:8080/",
     "height": 72
    },
    "id": "5zmD19ryCre7",
    "outputId": "e1291dd8-0f26-4e26-b0d6-6d8b3c2b8b4c"
   },
   "outputs": [],
   "source": [
    "# Environment settings\n",
    "\n",
    "PATH=%env PATH\n",
    "%env PATH={PATH}:/home/jupyter/.local/bin\n",
    "\n",
    "_ = !gcloud auth list --filter=status:ACTIVE --format=\"value(account)\"    \n",
    "USER = _[0].split('-')[0]\n",
    "\n",
    "PIPELINE_ROOT = '{}/pipeline_root/{}'.format(BUCKET_NAME, USER)\n",
    "\n",
    "PIPELINE_ROOT"
   ]
  },
  {
   "cell_type": "code",
   "execution_count": null,
   "metadata": {},
   "outputs": [],
   "source": [
    "# Pipeline settings\n",
    "\n",
    "# Change this to the location in your bucket where you've stored in the images\n",
    "BUCKET_PATH = 'data/pneumonia'\n",
    "\n",
    "INPUT_IMAGES_URI=f'{BUCKET_NAME}/{BUCKET_PATH}/stage_2_train_images'\n",
    "INPUT_LABELS_URI=f'{BUCKET_NAME}/{BUCKET_PATH}/stage_2_train_labels.csv'\n",
    "OUTPUT_IMAGE_FORMAT='.png'\n",
    "OUTPUT_IMAGES_URI=f'{BUCKET_NAME}/{BUCKET_PATH}/stage_2_train_images_converted'\n",
    "OUTPUT_ANNOTATION_SET_URI=f'{BUCKET_NAME}/{BUCKET_PATH}/stage_2_train/classification.csv'"
   ]
  },
  {
   "cell_type": "markdown",
   "metadata": {
    "id": "IprQaSI25oSk"
   },
   "source": [
    "Do some imports:"
   ]
  },
  {
   "cell_type": "code",
   "execution_count": null,
   "metadata": {
    "id": "UFDUBveR5UfJ"
   },
   "outputs": [],
   "source": [
    "import base64\n",
    "import uuid\n",
    "from typing import NamedTuple\n",
    "from urllib.parse import urlparse\n",
    "\n",
    "import kfp\n",
    "from aiplatform.pipelines import client\n",
    "from google.cloud import aiplatform, storage\n",
    "from google.cloud.aiplatform.gapic.schema import predict\n",
    "from google_cloud_pipeline_components import aiplatform as gcc_aip\n",
    "from IPython.display import Image\n",
    "from kfp.v2 import compiler, dsl\n",
    "from kfp.v2.dsl import (Artifact, Dataset, Input, InputPath, Model, Output,\n",
    "                        OutputPath, component)\n",
    "from kfp.v2.google.client import AIPlatformClient"
   ]
  },
  {
   "cell_type": "markdown",
   "metadata": {
    "id": "cwU4U6ZSwwhS"
   },
   "source": [
    "## Define custom component for data pre-processing\n"
   ]
  },
  {
   "cell_type": "code",
   "execution_count": null,
   "metadata": {
    "id": "cfUt0f4PONCg"
   },
   "outputs": [],
   "source": [
    "# Base image to used for custom component. Additional packages will be specified with packages_to_install parameter\n",
    "CONTAINER_GCR_URI='gcr.io/deeplearning-platform-release/tf2-cpu.2-5'\n",
    "\n",
    "# Component definition\n",
    "@component(output_component_file=\"preproc.yaml\", base_image=CONTAINER_GCR_URI, packages_to_install=['fsspec', 'gcsfs', 'pandas', 'pillow', 'pydicom'])\n",
    "def preprocess_data(\n",
    "    project: str,\n",
    "    input_images_uri: str,\n",
    "    input_labels_uri: str,\n",
    "    output_image_format: str,\n",
    "    output_images_uri: str,\n",
    "    output_annotation_set_uri: str,    \n",
    ") -> NamedTuple(\n",
    "    \"Outputs\",\n",
    "    [\n",
    "        (\"images_uri\", str),\n",
    "        (\"annotation_set_uri\", str),\n",
    "    ],\n",
    "):\n",
    "    import os\n",
    "    from glob import glob\n",
    "    from pathlib import Path\n",
    "    from urllib.parse import urlparse\n",
    "\n",
    "    import pandas as pd\n",
    "    import pydicom\n",
    "    from google.cloud import storage\n",
    "    from PIL import Image\n",
    "\n",
    "    # Temporary locations in container for converting images\n",
    "    INPUT_IMAGES_DIR = '/var/tmp/input_images'\n",
    "    OUTPUT_IMAGES_DIR = '/var/tmp/output_images'\n",
    "    OUTPUT_ANNOTATION_PATH = '/var/tmp/'\n",
    "    \n",
    "    storage_client = storage.Client(project=project)\n",
    "\n",
    "    # Extract bucket name and path from gs:// URI\n",
    "    def _parse_uri(uri):\n",
    "        parsed_uri = urlparse(uri)\n",
    "        bucket_name = parsed_uri.netloc\n",
    "        path = parsed_uri.path[1:]\n",
    "        return (bucket_name, path)\n",
    "\n",
    "    # Download source images\n",
    "    def _download_images(input_images_uri, test_mode=False):\n",
    "        Path(INPUT_IMAGES_DIR).mkdir(parents=True, exist_ok=True)\n",
    "        bucket_name, path = _parse_uri(input_images_uri)\n",
    "        bucket = storage_client.get_bucket(bucket_name)\n",
    "        blobs = bucket.list_blobs(prefix=path)\n",
    "\n",
    "        # The image conversion process takes a long time.\n",
    "        # To see if the pipeline works, set test_mode to True the first time\n",
    "        if test_mode:\n",
    "            blob = next(iter(blobs))\n",
    "            filename = os.path.basename(blob.name)\n",
    "            blob.download_to_filename(os.path.join(INPUT_IMAGES_DIR, filename))\n",
    "        else:\n",
    "            for blob in blobs:\n",
    "                filename = os.path.basename(blob.name)\n",
    "                blob.download_to_filename(os.path.join(INPUT_IMAGES_DIR, filename))\n",
    "\n",
    "    # Convert images from DICOM to new image format (PNG is recommended lossless format)\n",
    "    def _convert_images(output_image_format):\n",
    "        Path(OUTPUT_IMAGES_DIR).mkdir(parents=True, exist_ok=True)\n",
    "        files = [os.path.basename(x) for x in glob(os.path.join(INPUT_IMAGES_DIR, \"*.dcm\"))]\n",
    "\n",
    "        # Convert images\n",
    "        for f in files:\n",
    "            ds = pydicom.read_file(os.path.join(INPUT_IMAGES_DIR, f))\n",
    "            img = Image.fromarray(ds.pixel_array)\n",
    "            img.save(os.path.join(OUTPUT_IMAGES_DIR, f.replace(\".dcm\", output_image_format)))\n",
    "\n",
    "    # Create annotation set which contains image locations and labels in format AutoML expects\n",
    "    def _create_annotation_set(input_labels_uri, output_images_uri, output_image_format, output_annotation_set_uri):\n",
    "        _, path = _parse_uri(output_annotation_set_uri)\n",
    "        output_annotation_file = os.path.basename(path)\n",
    "        df_in = pd.read_csv(input_labels_uri)\n",
    "        df_out = pd.DataFrame()\n",
    "        df_out[\"set\"] = \"\"\n",
    "        df_out[\"file\"] = output_images_uri + '/' + df_in.patientId + output_image_format\n",
    "        df_out[\"target\"] = df_in.Target\n",
    "        df_out.drop_duplicates(inplace=True)\n",
    "        df_out.to_csv(os.path.join(OUTPUT_ANNOTATION_PATH, output_annotation_file), index=False)\n",
    "\n",
    "    # Upload converted images to Cloud Storage\n",
    "    def _upload_images(output_images_uri):\n",
    "        bucket_name, path = _parse_uri(output_images_uri)\n",
    "        bucket = storage_client.bucket(bucket_name)\n",
    "        blob = bucket.blob(path)\n",
    "        files = [os.path.basename(x) for x in glob(os.path.join(OUTPUT_IMAGES_DIR, \"*\"))]\n",
    "        for f in files:\n",
    "            blob = bucket.blob(f'{path}/{f}')\n",
    "            blob.upload_from_filename(os.path.join(OUTPUT_IMAGES_DIR, f))\n",
    "\n",
    "    # Upload annotation set file to Cloud Storage\n",
    "    def _upload_annotation_set(output_annotation_set_uri):\n",
    "        bucket_name, path = _parse_uri(output_annotation_set_uri)\n",
    "        bucket = storage_client.bucket(bucket_name)\n",
    "        blob = bucket.blob(path)\n",
    "        filename = os.path.basename(path)\n",
    "        blob.upload_from_filename(os.path.join(OUTPUT_ANNOTATION_PATH, filename))\n",
    "\n",
    "    _download_images(input_images_uri)\n",
    "    _convert_images(output_image_format)\n",
    "    _create_annotation_set(input_labels_uri, output_images_uri, output_image_format, output_annotation_set_uri)\n",
    "    _upload_images(output_images_uri)\n",
    "    _upload_annotation_set(output_annotation_set_uri)\n",
    "    return (output_images_uri, output_annotation_set_uri)"
   ]
  },
  {
   "cell_type": "markdown",
   "metadata": {
    "id": "Pf0pugbvftD1"
   },
   "source": [
    "## Define the pipeline"
   ]
  },
  {
   "cell_type": "markdown",
   "metadata": {},
   "source": [
    "Define pipeline with each step implemented by an operator.\n",
    "\n",
    "This pipeline is using one custom component defined earlier, `preprocess_data`,\n",
    "and 3 components included in the `google_cloud_pipeline_components` package."
   ]
  },
  {
   "cell_type": "code",
   "execution_count": null,
   "metadata": {
    "id": "vEEr62NUftD1"
   },
   "outputs": [],
   "source": [
    "@kfp.dsl.pipeline(name=\"pneumonia-detection\")\n",
    "def pipeline(project:str, input_images_uri:str, input_labels_uri:str, output_image_format:str,\n",
    "             output_images_uri:str, output_annotation_set_uri:str):\n",
    "\n",
    "    # Preprocess data\n",
    "    preprocess_data_op = preprocess_data(\n",
    "        project=PROJECT_ID,\n",
    "        input_images_uri=input_images_uri,\n",
    "        input_labels_uri=input_labels_uri,\n",
    "        output_image_format=output_image_format,\n",
    "        output_images_uri = output_images_uri,\n",
    "        output_annotation_set_uri=output_annotation_set_uri\n",
    "    )\n",
    "\n",
    "    # Create dataset\n",
    "    dataset_create_op = gcc_aip.ImageDatasetCreateOp(\n",
    "        project=PROJECT_ID,\n",
    "        display_name=\"pneumonia\",\n",
    "        gcs_source=preprocess_data_op.outputs['annotation_set_uri'],\n",
    "        import_schema_uri=aiplatform.schema.dataset.ioformat.image.single_label_classification\n",
    "    )\n",
    "\n",
    "    # Train model\n",
    "    training_op = gcc_aip.AutoMLImageTrainingJobRunOp(\n",
    "        project=PROJECT_ID,\n",
    "        display_name='train-pneumonia-detection_1',\n",
    "        prediction_type='classification',\n",
    "        model_type='CLOUD',\n",
    "        dataset=dataset_create_op.outputs['dataset'],\n",
    "        budget_milli_node_hours=8000\n",
    "    )\n",
    "\n",
    "    # Deploy model\n",
    "    deploy_op = gcc_aip.ModelDeployOp(\n",
    "        model=training_op.outputs[\"model\"],\n",
    "        project=PROJECT_ID\n",
    "    )"
   ]
  },
  {
   "cell_type": "markdown",
   "metadata": {
    "id": "2Hl1iYEKSzjP"
   },
   "source": [
    "## Compile and run the pipeline\n",
    "\n",
    "Now, you're ready to compile the pipeline:"
   ]
  },
  {
   "cell_type": "code",
   "execution_count": null,
   "metadata": {
    "id": "ycRc83B6bbfO"
   },
   "outputs": [],
   "source": [
    "JOB_SPEC = 'pneumonia_detection_pipeline.json'\n",
    "\n",
    "compiler.Compiler().compile(pipeline_func=pipeline,\n",
    "        package_path=JOB_SPEC)"
   ]
  },
  {
   "cell_type": "markdown",
   "metadata": {
    "id": "qfNuzFswBB4g"
   },
   "source": [
    "The pipeline compilation generates the `penumonia_detection_pipeline.json` job spec file.\n",
    "\n",
    "Next, you'll instantiate an API client object:"
   ]
  },
  {
   "cell_type": "code",
   "execution_count": null,
   "metadata": {
    "colab": {
     "base_uri": "https://localhost:8080/"
    },
    "id": "Hl5Q74_gkW2c",
    "outputId": "9f823324-6ebc-4884-ee4b-d926b621b36b"
   },
   "outputs": [],
   "source": [
    "api_client = AIPlatformClient(\n",
    "    project_id=PROJECT_ID,\n",
    "    region=REGION,\n",
    ")"
   ]
  },
  {
   "cell_type": "markdown",
   "metadata": {
    "id": "_jrn6saiQsPh"
   },
   "source": [
    "Then, you run the defined pipeline like this: "
   ]
  },
  {
   "cell_type": "code",
   "execution_count": null,
   "metadata": {
    "colab": {
     "background_save": true
    },
    "id": "R4Ha4FoDQpkd"
   },
   "outputs": [],
   "source": [
    "response = api_client.create_run_from_job_spec(JOB_SPEC,\n",
    "                                               parameter_values={\n",
    "                                                   'project': PROJECT_ID,\n",
    "                                                   'input_images_uri': INPUT_IMAGES_URI,\n",
    "                                                   'input_labels_uri': INPUT_LABELS_URI,\n",
    "                                                   'output_image_format': OUTPUT_IMAGE_FORMAT,\n",
    "                                                   'output_images_uri': OUTPUT_IMAGES_URI,\n",
    "                                                   'output_annotation_set_uri': OUTPUT_ANNOTATION_SET_URI\n",
    "                                                                },\n",
    "                                               pipeline_root=PIPELINE_ROOT)"
   ]
  },
  {
   "cell_type": "markdown",
   "metadata": {
    "id": "GvBTCP318RKs"
   },
   "source": [
    "Click on the generated link to see your run in the Cloud Console.  It should look something like this as it is running:\n",
    "\n",
    "<a href=\"https://storage.googleapis.com/amy-jo/images/mp/automl_tabular_classif.png\" target=\"_blank\"><img src=\"https://storage.googleapis.com/amy-jo/images/mp/automl_tabular_classif.png\" width=\"40%\"/></a>"
   ]
  },
  {
   "cell_type": "markdown",
   "metadata": {},
   "source": [
    "## Make prediction"
   ]
  },
  {
   "cell_type": "markdown",
   "metadata": {},
   "source": [
    "### Constants"
   ]
  },
  {
   "cell_type": "code",
   "execution_count": null,
   "metadata": {},
   "outputs": [],
   "source": [
    "LOCAL_IMAGES_PATH = 'images'\n",
    "PNEUMONIA_IMAGE = 'ce8e0d85-44a8-4b05-b421-cc5c510aa7a5.png'\n",
    "NO_PNEUMONIA_IMAGE = '4c52f9c5-6ce0-4e28-ae5d-ddb37f374f31.png'"
   ]
  },
  {
   "cell_type": "markdown",
   "metadata": {},
   "source": [
    "### Copy files into local directory for prediction"
   ]
  },
  {
   "cell_type": "code",
   "execution_count": null,
   "metadata": {},
   "outputs": [],
   "source": [
    "!mkdir -p '{LOCAL_IMAGES_PATH}'\n",
    "!gsutil cp '{OUTPUT_IMAGES_URI}/{PNEUMONIA_IMAGE}' '{LOCAL_IMAGES_PATH}'\n",
    "!gsutil cp '{OUTPUT_IMAGES_URI}/{NO_PNEUMONIA_IMAGE}' '{LOCAL_IMAGES_PATH}'"
   ]
  },
  {
   "cell_type": "markdown",
   "metadata": {},
   "source": [
    "### Helper functions"
   ]
  },
  {
   "cell_type": "code",
   "execution_count": null,
   "metadata": {},
   "outputs": [],
   "source": [
    "def predict_image_classification_automl(\n",
    "    project: str,\n",
    "    endpoint_id: str,\n",
    "    filename: str,\n",
    "    location: str = REGION,\n",
    "    api_endpoint: str = f\"{REGION}-aiplatform.googleapis.com\",\n",
    "):\n",
    "    # The AI Platform services require regional API endpoints.\n",
    "    client_options = {\"api_endpoint\": api_endpoint}\n",
    "    # Initialize client that will be used to create and send requests.\n",
    "    # This client only needs to be created once, and can be reused for multiple requests.\n",
    "    prediction_client = aiplatform.gapic.PredictionServiceClient(client_options=client_options)\n",
    "    \n",
    "    with open(filename, \"rb\") as f:\n",
    "        file_content = f.read()    \n",
    "        \n",
    "    # The format of each instance should conform to the deployed model's prediction input schema.\n",
    "    encoded_content = base64.b64encode(file_content).decode(\"utf-8\")\n",
    "    instance = predict.instance.ImageClassificationPredictionInstance(\n",
    "        content=encoded_content).to_value()\n",
    "    instances = [instance]\n",
    "    # See gs://google-cloud-aiplatform/schema/predict/params/image_classification_1.0.0.yaml for the format of the parameters.\n",
    "    parameters = predict.params.ImageClassificationPredictionParams(\n",
    "        confidence_threshold=0.5, max_predictions=5,\n",
    "    ).to_value()\n",
    "    endpoint = prediction_client.endpoint_path(\n",
    "        project=project, location=location, endpoint=endpoint_id\n",
    "    )\n",
    "    response = prediction_client.predict(\n",
    "        endpoint=endpoint, instances=instances, parameters=parameters\n",
    "    )\n",
    "    print(\"response\")\n",
    "    print(\" deployed_model_id:\", response.deployed_model_id)\n",
    "    # See gs://google-cloud-aiplatform/schema/predict/prediction/classification.yaml for the format of the predictions.\n",
    "    predictions = response.predictions\n",
    "    for prediction in predictions:\n",
    "        print(\" prediction:\", dict(prediction))"
   ]
  },
  {
   "cell_type": "markdown",
   "metadata": {},
   "source": [
    "### Make predictions"
   ]
  },
  {
   "cell_type": "markdown",
   "metadata": {},
   "source": [
    "Access endpoint ID which will be used to make prediction "
   ]
  },
  {
   "cell_type": "code",
   "execution_count": null,
   "metadata": {},
   "outputs": [],
   "source": [
    "try:\n",
    "    endpoint_name = endpoint.name\n",
    "except:\n",
    "    # Use last endpoint if no endpoint\n",
    "    endpoint_name = aiplatform.Endpoint.list()[0].name"
   ]
  },
  {
   "cell_type": "markdown",
   "metadata": {},
   "source": [
    "Predict on an image without pneumonia:"
   ]
  },
  {
   "cell_type": "code",
   "execution_count": null,
   "metadata": {},
   "outputs": [],
   "source": [
    "display(Image(f'{LOCAL_IMAGES_PATH}/{NO_PNEUMONIA_IMAGE}', width=384, height=384))\n",
    "predict_image_classification_automl(project=PROJECT_ID, endpoint_id=endpoint_name, location=REGION, filename=f'{LOCAL_IMAGES_PATH}/{NO_PNEUMONIA_IMAGE}')"
   ]
  },
  {
   "cell_type": "markdown",
   "metadata": {},
   "source": [
    "Predict on an image with pneumonia:"
   ]
  },
  {
   "cell_type": "code",
   "execution_count": null,
   "metadata": {},
   "outputs": [],
   "source": [
    "display(Image(f'{LOCAL_IMAGES_PATH}/{PNEUMONIA_IMAGE}', width=384, height=384))\n",
    "predict_image_classification_automl(project=PROJECT_ID, endpoint_id=endpoint_name, location=REGION, filename=f'{LOCAL_IMAGES_PATH}/{PNEUMONIA_IMAGE}')"
   ]
  },
  {
   "cell_type": "markdown",
   "metadata": {
    "id": "TpV-iwP9qw9c"
   },
   "source": [
    "## Cleaning up\n",
    "\n",
    "To clean up all Google Cloud resources used in this project, you can [delete the Google Cloud\n",
    "project](https://cloud.google.com/resource-manager/docs/creating-managing-projects#shutting_down_projects) you used for the tutorial.\n",
    "\n",
    "Otherwise, you can delete the individual resources you created in this tutorial:\n",
    "\n",
    "{**TODO**: Include commands to delete individual resources below. Include deletion of scheduled job.}"
   ]
  },
  {
   "cell_type": "code",
   "execution_count": null,
   "metadata": {
    "id": "sx_vKniMq9ZX"
   },
   "outputs": [],
   "source": [
    "# Delete Cloud Storage objects that were created\n",
    "! gsutil -m rm -r $PIPELINE_ROOT"
   ]
  }
 ],
 "metadata": {
  "colab": {
   "collapsed_sections": [],
   "name": "Copy of Healthcare AI Pipeline - Pneumonia Detection.ipynb",
   "provenance": [],
   "toc_visible": true
  },
  "environment": {
   "name": "tf2-gpu.2-5.m70",
   "type": "gcloud",
   "uri": "gcr.io/deeplearning-platform-release/tf2-gpu.2-5:m70"
  },
  "kernelspec": {
   "display_name": "Python 3",
   "language": "python",
   "name": "python3"
  },
  "language_info": {
   "codemirror_mode": {
    "name": "ipython",
    "version": 3
   },
   "file_extension": ".py",
   "mimetype": "text/x-python",
   "name": "python",
   "nbconvert_exporter": "python",
   "pygments_lexer": "ipython3",
   "version": "3.7.10"
  }
 },
 "nbformat": 4,
 "nbformat_minor": 4
}
